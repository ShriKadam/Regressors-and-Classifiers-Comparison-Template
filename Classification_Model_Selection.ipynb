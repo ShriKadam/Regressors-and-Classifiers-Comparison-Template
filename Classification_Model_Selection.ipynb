{
 "cells": [
  {
   "cell_type": "code",
   "execution_count": 1,
   "metadata": {},
   "outputs": [],
   "source": [
    "import numpy as np\n",
    "import matplotlib.pyplot as plt\n",
    "import pandas as pd"
   ]
  },
  {
   "cell_type": "code",
   "execution_count": 2,
   "metadata": {},
   "outputs": [],
   "source": [
    "dataset = pd.read_csv('Classification_Data.csv')\n",
    "X = dataset.iloc[:, :-1].values\n",
    "y = dataset.iloc[:, -1].values"
   ]
  },
  {
   "cell_type": "code",
   "execution_count": 3,
   "metadata": {},
   "outputs": [],
   "source": [
    "from sklearn.model_selection import train_test_split\n",
    "X_train, X_test, y_train, y_test = train_test_split(X, y, test_size = 0.25, random_state = 0)"
   ]
  },
  {
   "cell_type": "code",
   "execution_count": 4,
   "metadata": {},
   "outputs": [],
   "source": [
    "from sklearn.preprocessing import StandardScaler\n",
    "sc = StandardScaler()\n",
    "X_train = sc.fit_transform(X_train)\n",
    "X_test = sc.transform(X_test)"
   ]
  },
  {
   "cell_type": "code",
   "execution_count": 7,
   "metadata": {},
   "outputs": [
    {
     "name": "stdout",
     "output_type": "stream",
     "text": [
      "KNeighborsClassifier(algorithm='auto', leaf_size=30, metric='minkowski',\n",
      "                     metric_params=None, n_jobs=None, n_neighbors=5, p=2,\n",
      "                     weights='uniform')\n",
      "LogisticRegression(C=1.0, class_weight=None, dual=False, fit_intercept=True,\n",
      "                   intercept_scaling=1, l1_ratio=None, max_iter=100,\n",
      "                   multi_class='auto', n_jobs=None, penalty='l2',\n",
      "                   random_state=0, solver='lbfgs', tol=0.0001, verbose=0,\n",
      "                   warm_start=False)\n",
      "GaussianNB(priors=None, var_smoothing=1e-09)\n",
      "SVC(C=1.0, break_ties=False, cache_size=200, class_weight=None, coef0=0.0,\n",
      "    decision_function_shape='ovr', degree=3, gamma='scale', kernel='rbf',\n",
      "    max_iter=-1, probability=False, random_state=0, shrinking=True, tol=0.001,\n",
      "    verbose=False)\n",
      "RandomForestClassifier(bootstrap=True, ccp_alpha=0.0, class_weight=None,\n",
      "                       criterion='entropy', max_depth=None, max_features='auto',\n",
      "                       max_leaf_nodes=None, max_samples=None,\n",
      "                       min_impurity_decrease=0.0, min_impurity_split=None,\n",
      "                       min_samples_leaf=1, min_samples_split=2,\n",
      "                       min_weight_fraction_leaf=0.0, n_estimators=10,\n",
      "                       n_jobs=None, oob_score=False, random_state=0, verbose=0,\n",
      "                       warm_start=False)\n"
     ]
    }
   ],
   "source": [
    "# K-Nearest Neighbors Classifier\n",
    "from sklearn.neighbors import KNeighborsClassifier\n",
    "knnc = KNeighborsClassifier(n_neighbors = 5, metric = 'minkowski', p = 2)\n",
    "knnc.fit(X_train, y_train)\n",
    "print(knnc)\n",
    "\n",
    "# Logistic Regression Classifier\n",
    "from sklearn.linear_model import LogisticRegression\n",
    "lrc = LogisticRegression(random_state = 0)\n",
    "lrc.fit(X_train, y_train)\n",
    "print(lrc)\n",
    "\n",
    "# Naive Bayes Classifier\n",
    "from sklearn.naive_bayes import GaussianNB\n",
    "nbc = GaussianNB()\n",
    "nbc.fit(X_train, y_train)\n",
    "print(nbc)\n",
    "\n",
    "# Support Vector Classifier\n",
    "from sklearn.svm import SVC\n",
    "svc = SVC(kernel = 'rbf', random_state = 0)\n",
    "svc.fit(X_train, y_train)\n",
    "print(svc)\n",
    "\n",
    "# Random Forest Classifier\n",
    "from sklearn.ensemble import RandomForestClassifier\n",
    "rfc = RandomForestClassifier(n_estimators = 10, criterion = 'entropy', random_state = 0)\n",
    "rfc.fit(X_train, y_train)\n",
    "print(rfc)"
   ]
  },
  {
   "cell_type": "code",
   "execution_count": 8,
   "metadata": {},
   "outputs": [],
   "source": [
    "knnc_pred = knnc.predict(X_test)\n",
    "lrc_pred = lrc.predict(X_test)\n",
    "nbc_pred = nbc.predict(X_test)\n",
    "svc_pred = svc.predict(X_test)\n",
    "rfc_pred = rfc.predict(X_test)"
   ]
  },
  {
   "cell_type": "code",
   "execution_count": 21,
   "metadata": {},
   "outputs": [
    {
     "name": "stdout",
     "output_type": "stream",
     "text": [
      "Confusion Matrices for the classifiers are:\n",
      "K-Nearest Neighbors Classifier\n",
      " [[103   4]\n",
      " [  5  59]] \n",
      "Logistic Regression Classifier\n",
      " [[103   4]\n",
      " [  5  59]] \n",
      "Naive Bayes Classifier\n",
      " [[99  8]\n",
      " [ 2 62]] \n",
      "Support Vector Classifier\n",
      " [[102   5]\n",
      " [  3  61]] \n",
      "Random Forest Classifier\n",
      " [[102   5]\n",
      " [  6  58]]\n",
      "\n",
      "Accuracies for the classifiers are:\n",
      "K-Nearest Neighbors Classifier\t 0.9473684210526315 \n",
      "Logistic Regression Classifier\t 0.9473684210526315 \n",
      "Naive Bayes Classifier\t\t 0.9415204678362573 \n",
      "Support Vector Classifier\t 0.9532163742690059 \n",
      "Random Forest Classifier\t 0.935672514619883\n"
     ]
    }
   ],
   "source": [
    "from sklearn.metrics import confusion_matrix, accuracy_score\n",
    "\n",
    "knnc_cm = confusion_matrix(y_test, knnc_pred)\n",
    "lrc_cm = confusion_matrix(y_test, lrc_pred)\n",
    "nbc_cm = confusion_matrix(y_test, nbc_pred)\n",
    "svc_cm = confusion_matrix(y_test, svc_pred)\n",
    "rfc_cm = confusion_matrix(y_test, rfc_pred)\n",
    "\n",
    "knnc_acc = accuracy_score(y_test, knnc_pred)\n",
    "lrc_acc = accuracy_score(y_test, lrc_pred)\n",
    "nbc_acc = accuracy_score(y_test, nbc_pred)\n",
    "svc_acc = accuracy_score(y_test, svc_pred)\n",
    "rfc_acc = accuracy_score(y_test, rfc_pred)\n",
    "print(\"Confusion Matrices for the classifiers are:\")\n",
    "print(\"K-Nearest Neighbors Classifier\\n\",knnc_cm,\"\\nLogistic Regression Classifier\\n\",lrc_cm,\"\\nNaive Bayes Classifier\\n\",nbc_cm,\\\n",
    "\"\\nSupport Vector Classifier\\n\",svc_cm,\"\\nRandom Forest Classifier\\n\",rfc_cm)\n",
    "print(\"\\nAccuracies for the classifiers are:\")\n",
    "print(\"K-Nearest Neighbors Classifier\\t\",knnc_acc,\"\\nLogistic Regression Classifier\\t\",lrc_acc,\"\\nNaive Bayes Classifier\\t\\t\",nbc_acc,\\\n",
    "\"\\nSupport Vector Classifier\\t\",svc_acc,\"\\nRandom Forest Classifier\\t\",rfc_acc)"
   ]
  },
  {
   "cell_type": "code",
   "execution_count": null,
   "metadata": {},
   "outputs": [],
   "source": []
  }
 ],
 "metadata": {
  "hide_input": false,
  "kernelspec": {
   "display_name": "Python 3.7.7 64-bit ('venv': conda)",
   "language": "python",
   "name": "python37764bitvenvconda1175fc2705b043cba354bdb226332f11"
  },
  "language_info": {
   "codemirror_mode": {
    "name": "ipython",
    "version": 3
   },
   "file_extension": ".py",
   "mimetype": "text/x-python",
   "name": "python",
   "nbconvert_exporter": "python",
   "pygments_lexer": "ipython3",
   "version": "3.7.7"
  }
 },
 "nbformat": 4,
 "nbformat_minor": 4
}
